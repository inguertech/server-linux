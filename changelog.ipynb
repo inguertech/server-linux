{
 "cells": [
  {
   "cell_type": "code",
   "execution_count": 3,
   "metadata": {},
   "outputs": [
    {
     "data": {
      "text/plain": [
       "2018-10-31T09:33:23.392"
      ]
     },
     "execution_count": 3,
     "metadata": {},
     "output_type": "execute_result"
    }
   ],
   "source": [
    "using Dates\n",
    "Dates.now()"
   ]
  },
  {
   "cell_type": "markdown",
   "metadata": {},
   "source": [
    "---\n",
    "# TODOs\n",
    "\n",
    "## 2018-10-31T09:33:23.392\n",
    "1. Change title \"On SC & OR\" for other like \"Technical Notes On SC & OR\". What is better?\n",
    "2. Add subsection recognize like that:\n",
    "```\n",
    "Content\n",
    "├─ Section\n",
    "│  ├─ Subsection\n",
    "│  │  ├─ Topic1.md\n",
    "│  │  ├─ Topic2.md\n",
    "```\n",
    "3. Remove the \"Find an error or bug?\" message or update it to be a hadir.ga message.\n",
    "4. The footer message is double point breaked when site is open in a monile device, change it to be at the same lin or have a wrapping.\n"
   ]
  },
  {
   "cell_type": "markdown",
   "metadata": {},
   "source": [
    "---\n",
    "# Changelog\n",
    "## date\n",
    "\n",
    "## date"
   ]
  }
 ],
 "metadata": {
  "kernelspec": {
   "display_name": "Julia 1.0.1",
   "language": "julia",
   "name": "julia-1.0"
  },
  "language_info": {
   "file_extension": ".jl",
   "mimetype": "application/julia",
   "name": "julia",
   "version": "1.0.1"
  }
 },
 "nbformat": 4,
 "nbformat_minor": 2
}
